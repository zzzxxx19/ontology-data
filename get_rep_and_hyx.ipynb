{
 "cells": [
  {
   "cell_type": "code",
   "execution_count": 1,
   "metadata": {},
   "outputs": [],
   "source": [
    "import pandas as pd\n",
    "import numpy as np\n",
    "from ltp import LTP"
   ]
  },
  {
   "cell_type": "code",
   "execution_count": 42,
   "metadata": {},
   "outputs": [],
   "source": [
    "data=pd.read_csv('a0_v_a1.csv')\n",
    "#data=pd.read_csv('v_a1.csv')\n",
    "#data=pd.read_csv('a1_v.csv')"
   ]
  },
  {
   "cell_type": "code",
   "execution_count": 43,
   "metadata": {},
   "outputs": [],
   "source": [
    "word=pd.read_csv('a0_v_a1_v_n.csv')\n",
    "#word=pd.read_csv('v_a1_v_n.csv')\n",
    "#word=pd.read_csv('a1_v_v_n.csv')"
   ]
  },
  {
   "cell_type": "code",
   "execution_count": 44,
   "metadata": {},
   "outputs": [],
   "source": [
    "data=data[['v','a1','count']].values.tolist()"
   ]
  },
  {
   "cell_type": "code",
   "execution_count": 45,
   "metadata": {},
   "outputs": [],
   "source": [
    "ssum=0\n",
    "for i in data:\n",
    "    ssum=ssum+i[2]"
   ]
  },
  {
   "cell_type": "code",
   "execution_count": 46,
   "metadata": {},
   "outputs": [],
   "source": [
    "v=[]\n",
    "for i in data:\n",
    "    if i[0] not in v:\n",
    "        v.append(i[0])"
   ]
  },
  {
   "cell_type": "code",
   "execution_count": 47,
   "metadata": {},
   "outputs": [],
   "source": [
    "vsum=[]\n",
    "for i in v:\n",
    "    nsum=0\n",
    "    for j in data:\n",
    "        if j[0]==i:\n",
    "            nsum=nsum+j[2]\n",
    "    vsum.append([i,nsum])"
   ]
  },
  {
   "cell_type": "code",
   "execution_count": 48,
   "metadata": {},
   "outputs": [],
   "source": [
    "word=word[['v','n','count']].values.tolist()"
   ]
  },
  {
   "cell_type": "code",
   "execution_count": 49,
   "metadata": {},
   "outputs": [],
   "source": [
    "wordsum=[]\n",
    "for i in v:\n",
    "    wsum=0\n",
    "    for j in word:\n",
    "        if i==j[0]:\n",
    "            wsum=wsum+j[2]\n",
    "    if wsum!=0:\n",
    "        wordsum.append([i,wsum])"
   ]
  },
  {
   "cell_type": "code",
   "execution_count": 50,
   "metadata": {},
   "outputs": [],
   "source": [
    "pv=[]\n",
    "for j in wordsum:\n",
    "    for i in data:\n",
    "        if i[0]==j[0]:\n",
    "            pv.append([i[0],i[1],round(i[2]/j[1],4)])"
   ]
  },
  {
   "cell_type": "code",
   "execution_count": 51,
   "metadata": {},
   "outputs": [],
   "source": [
    "pce=[]\n",
    "for i in word:\n",
    "    for j in wordsum:\n",
    "        if i[0]==j[0]:\n",
    "            pce.append([i[0],i[1],round(i[2]/j[1],4)])"
   ]
  },
  {
   "cell_type": "code",
   "execution_count": 52,
   "metadata": {},
   "outputs": [],
   "source": [
    "pec=[]\n",
    "for i in word:\n",
    "    for j in vsum:\n",
    "        if i[0]==j[0]:\n",
    "            if i[2]>j[1]:\n",
    "                print(i)\n",
    "                print(j)\n",
    "            pec.append([i[0],i[1],round(i[2]/j[1],4)])"
   ]
  },
  {
   "cell_type": "code",
   "execution_count": 53,
   "metadata": {},
   "outputs": [],
   "source": [
    "rep=[]\n",
    "for i in range(0,len(pce)):\n",
    "    rep.append([pce[i][0],pce[i][1],pce[i][2]*pec[i][2]])"
   ]
  },
  {
   "cell_type": "code",
   "execution_count": 54,
   "metadata": {},
   "outputs": [],
   "source": [
    "dictr={}\n",
    "for i in word:\n",
    "    dictr[(i[0],i[1])]=0"
   ]
  },
  {
   "cell_type": "code",
   "execution_count": 55,
   "metadata": {},
   "outputs": [],
   "source": [
    "import math as ma"
   ]
  },
  {
   "cell_type": "code",
   "execution_count": 56,
   "metadata": {},
   "outputs": [],
   "source": [
    "for i in range(0,len(word)):\n",
    "    for z in pv:\n",
    "        if z[0]==word[i][0] and word[i][1] in z[1]:\n",
    "            dictr[(word[i][0],word[i][1])]=dictr[(word[i][0],word[i][1])]+(-1)*pce[i][2]*pec[i][2]*z[2]*ma.log(pce[i][2]*pec[i][2])"
   ]
  },
  {
   "cell_type": "code",
   "execution_count": 57,
   "metadata": {},
   "outputs": [],
   "source": [
    "comp=[]\n",
    "for i in range(0,len(pec)):\n",
    "    if len(pec[i][0])>1:\n",
    "        comp.append([pec[i][0],pec[i][1],pec[i][2],pce[i][2],rep[i][2],word[i][2],dictr[(pec[i][0],pec[i][1])]])"
   ]
  },
  {
   "cell_type": "code",
   "execution_count": 58,
   "metadata": {},
   "outputs": [],
   "source": [
    "comp=pd.DataFrame(comp)"
   ]
  },
  {
   "cell_type": "code",
   "execution_count": 59,
   "metadata": {},
   "outputs": [],
   "source": [
    "comp.columns=['v','n','pec','pce','rep','count_abstract','hyx']"
   ]
  },
  {
   "cell_type": "code",
   "execution_count": 60,
   "metadata": {},
   "outputs": [],
   "source": [
    "comp.groupby('v').apply(lambda x: x.sort_values('rep', ascending=False)).reset_index(drop=True).to_csv('a0_v_a1_result.csv',index=False,encoding='utf_8_sig')\n",
    "#comp.groupby('v').apply(lambda x: x.sort_values('rep', ascending=False)).reset_index(drop=True).to_csv('v_a1_result.csv',index=False,encoding='utf_8_sig')\n",
    "#comp.groupby('v').apply(lambda x: x.sort_values('rep', ascending=False)).reset_index(drop=True).to_csv('a1_v_result.csv',index=False,encoding='utf_8_sig')"
   ]
  },
  {
   "cell_type": "code",
   "execution_count": null,
   "metadata": {},
   "outputs": [],
   "source": []
  },
  {
   "cell_type": "code",
   "execution_count": null,
   "metadata": {},
   "outputs": [],
   "source": []
  },
  {
   "cell_type": "code",
   "execution_count": null,
   "metadata": {},
   "outputs": [],
   "source": []
  }
 ],
 "metadata": {
  "kernelspec": {
   "display_name": "Python 3",
   "language": "python",
   "name": "python3"
  },
  "language_info": {
   "codemirror_mode": {
    "name": "ipython",
    "version": 3
   },
   "file_extension": ".py",
   "mimetype": "text/x-python",
   "name": "python",
   "nbconvert_exporter": "python",
   "pygments_lexer": "ipython3",
   "version": "3.8.3"
  }
 },
 "nbformat": 4,
 "nbformat_minor": 4
}
