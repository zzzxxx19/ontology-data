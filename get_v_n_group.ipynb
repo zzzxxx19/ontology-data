{
 "cells": [
  {
   "cell_type": "code",
   "execution_count": 36,
   "metadata": {},
   "outputs": [],
   "source": [
    "import pandas as pd\n",
    "from ltp import LTP"
   ]
  },
  {
   "cell_type": "code",
   "execution_count": 62,
   "metadata": {},
   "outputs": [],
   "source": [
    "ltp = LTP()"
   ]
  },
  {
   "cell_type": "code",
   "execution_count": 63,
   "metadata": {},
   "outputs": [],
   "source": [
    "ltp.add_words(words=[\"人大代表\", \"生态文明\",\"扬子江\",\"长江大保护\",\"习近平\",'禁捕','退捕','禁渔'], max_window=5)"
   ]
  },
  {
   "cell_type": "code",
   "execution_count": 124,
   "metadata": {},
   "outputs": [],
   "source": [
    "data=pd.read_csv('a1_v.csv')\n",
    "#data=pd.read_csv('a0_v_a1.csv')\n",
    "#data=pd.read_csv('v_a1.csv')"
   ]
  },
  {
   "cell_type": "code",
   "execution_count": 125,
   "metadata": {},
   "outputs": [],
   "source": [
    "list1=data[['v','a1','count']].values"
   ]
  },
  {
   "cell_type": "code",
   "execution_count": 126,
   "metadata": {},
   "outputs": [],
   "source": [
    "list1=list1.tolist()"
   ]
  },
  {
   "cell_type": "code",
   "execution_count": 129,
   "metadata": {},
   "outputs": [],
   "source": [
    "candi_word=['禁捕','退捕','禁渔','退渔']"
   ]
  },
  {
   "cell_type": "code",
   "execution_count": 130,
   "metadata": {},
   "outputs": [],
   "source": [
    "dict1={}\n",
    "for i in list1:\n",
    "    seg1, hidden1 = ltp.seg([i[1]])\n",
    "    pos1=ltp.pos(hidden1)\n",
    "    m=[]\n",
    "    for k in candi_word:\n",
    "        for h in range(0,len(seg1[0])):\n",
    "            if k in seg1[0][h]:\n",
    "                #m.append(h)\n",
    "                if (i[0],k,'n') not in dict1.keys():\n",
    "                        dict1[(i[0],k,'n')]=i[2]\n",
    "                        m.append(k)\n",
    "                else:\n",
    "                    if k not in m:\n",
    "                        dict1[(i[0],k,'n')]=dict1[(i[0],k,'n')]+i[2]\n",
    "                        m.append(k)\n",
    "    for j in range(0,len(pos1[0])):\n",
    "        if pos1[0][j]=='n':\n",
    "            if len(seg1[0][j])>=2:\n",
    "                if (i[0],seg1[0][j],pos1[0][j]) not in dict1.keys():\n",
    "                    dict1[(i[0],seg1[0][j],pos1[0][j])]=i[2]\n",
    "                    m.append(seg1[0][j])\n",
    "                else:\n",
    "                    if seg1[0][j] not in m:\n",
    "                        dict1[(i[0],seg1[0][j],pos1[0][j])]=dict1[(i[0],seg1[0][j],pos1[0][j])]+i[2]\n",
    "                    m.append(seg1[0][j])\n",
    "                #m.append(j)\n",
    "    #m=list(set(m))\n",
    "    #m.sort()\n",
    "    #n=[]\n",
    "    #st=''\n",
    "    #if len(m)>2:\n",
    "    #    for l in range(1,len(m)):\n",
    "    #        if m[l-1]+1!=m[l]:\n",
    "    #            st=st+seg1[0][m[l-1]]\n",
    "    #            n.append(st)\n",
    "    #            st=''\n",
    "    #        else:\n",
    "    #            st=st+seg1[0][m[l-1]]\n",
    "    #    st=st+seg1[0][m[l]]\n",
    "    #    n.append(st)\n",
    "    #else:\n",
    "    #    if len(m)==2:\n",
    "    #        if m[0]+1==m[1]:\n",
    "    #            st=st+seg1[0][m[0]]+seg1[0][m[1]]\n",
    "    #            n.append(st)\n",
    "    #        else:\n",
    "    #            n.append(seg1[0][m[0]])\n",
    "    #            n.append(seg1[0][m[1]])\n",
    "    #n=list(set(n))\n",
    "    #for p in n:\n",
    "    #    if (i[0],p,'n') not in dict1.keys():\n",
    "    #        dict1[(i[0],p,'n')]=i[2]\n",
    "    #    else:\n",
    "    #        dict1[(i[0],p,'n')]=dict1[(i[0],p,'n')]+i[2]\n",
    "                #if (i[0],seg1[0][j],pos1[0][j]) not in dict1.keys():\n",
    "                #    dict1[(i[0],seg1[0][j],pos1[0][j])]=i[2]\n",
    "                #    m.append(seg1[0][j])\n",
    "                #else:\n",
    "                #    if seg1[0][j] not in m:\n",
    "                #        dict1[(i[0],seg1[0][j],pos1[0][j])]=dict1[(i[0],seg1[0][j],pos1[0][j])]+i[2]\n",
    "                #    m.append(seg1[0][j])"
   ]
  },
  {
   "cell_type": "code",
   "execution_count": 131,
   "metadata": {},
   "outputs": [],
   "source": [
    "l=[]\n",
    "for i in dict1.keys():\n",
    "    if len(i[0])>1:\n",
    "        l.append([i[1],i[0],dict1[i]])"
   ]
  },
  {
   "cell_type": "code",
   "execution_count": 132,
   "metadata": {},
   "outputs": [],
   "source": [
    "dd=pd.DataFrame(l)"
   ]
  },
  {
   "cell_type": "code",
   "execution_count": 133,
   "metadata": {},
   "outputs": [],
   "source": [
    "dd.columns=['n','v','count']\n",
    "#dd.columns=['v','n','count']"
   ]
  },
  {
   "cell_type": "code",
   "execution_count": 134,
   "metadata": {},
   "outputs": [],
   "source": [
    "dd.to_csv('a1_v_v_n.csv',index=False,encoding='utf_8_sig')\n",
    "#dd.to_csv('a0_v_a1_v_n.csv',index=False,encoding='utf_8_sig')\n",
    "#dd.to_csv('v_a1_v_n.csv',index=False,encoding='utf_8_sig')"
   ]
  },
  {
   "cell_type": "code",
   "execution_count": null,
   "metadata": {},
   "outputs": [],
   "source": []
  },
  {
   "cell_type": "code",
   "execution_count": null,
   "metadata": {},
   "outputs": [],
   "source": []
  },
  {
   "cell_type": "code",
   "execution_count": null,
   "metadata": {},
   "outputs": [],
   "source": []
  }
 ],
 "metadata": {
  "kernelspec": {
   "display_name": "Python 3",
   "language": "python",
   "name": "python3"
  },
  "language_info": {
   "codemirror_mode": {
    "name": "ipython",
    "version": 3
   },
   "file_extension": ".py",
   "mimetype": "text/x-python",
   "name": "python",
   "nbconvert_exporter": "python",
   "pygments_lexer": "ipython3",
   "version": "3.8.3"
  }
 },
 "nbformat": 4,
 "nbformat_minor": 4
}
