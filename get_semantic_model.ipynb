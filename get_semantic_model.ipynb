{
 "cells": [
  {
   "cell_type": "code",
   "execution_count": 1,
   "metadata": {},
   "outputs": [],
   "source": [
    "from ltp import LTP\n",
    "ltp = LTP() # 默认加载 Small 模型path='D:\\\\webdownload\\\\small1.tgz'"
   ]
  },
  {
   "cell_type": "code",
   "execution_count": 2,
   "metadata": {},
   "outputs": [],
   "source": [
    "ltp.add_words(words=[\"人大代表\", \"生态文明\",\"扬子江\",\"长江大保护\",\"习近平\",'禁捕','退捕','禁渔'], max_window=5)"
   ]
  },
  {
   "cell_type": "code",
   "execution_count": 1,
   "metadata": {},
   "outputs": [
    {
     "name": "stdout",
     "output_type": "stream",
     "text": [
      "Collecting ltp==4.1.3\n",
      "  Using cached ltp-4.1.3-py3-none-any.whl (74 kB)\n",
      "Requirement already satisfied: pygtrie<2.5,>=2.3.0 in d:\\anaconda\\lib\\site-packages (from ltp==4.1.3) (2.3.3)\n",
      "Collecting transformers<5.0,>=4.0.0\n",
      "  Using cached transformers-4.4.2-py3-none-any.whl (2.0 MB)\n",
      "Requirement already satisfied: torch>=1.2.0 in d:\\anaconda\\lib\\site-packages (from ltp==4.1.3) (1.4.0+cu92)\n",
      "Requirement already satisfied: numpy>=1.17 in d:\\anaconda\\lib\\site-packages (from transformers<5.0,>=4.0.0->ltp==4.1.3) (1.18.5)\n",
      "Requirement already satisfied: tqdm>=4.27 in d:\\anaconda\\lib\\site-packages (from transformers<5.0,>=4.0.0->ltp==4.1.3) (4.47.0)\n",
      "Requirement already satisfied: regex!=2019.12.17 in d:\\anaconda\\lib\\site-packages (from transformers<5.0,>=4.0.0->ltp==4.1.3) (2020.6.8)\n",
      "Requirement already satisfied: tokenizers<0.11,>=0.10.1 in d:\\anaconda\\lib\\site-packages (from transformers<5.0,>=4.0.0->ltp==4.1.3) (0.10.1)\n",
      "Requirement already satisfied: filelock in d:\\anaconda\\lib\\site-packages (from transformers<5.0,>=4.0.0->ltp==4.1.3) (3.0.12)\n",
      "Requirement already satisfied: requests in d:\\anaconda\\lib\\site-packages (from transformers<5.0,>=4.0.0->ltp==4.1.3) (2.24.0)\n",
      "Requirement already satisfied: sacremoses in d:\\anaconda\\lib\\site-packages (from transformers<5.0,>=4.0.0->ltp==4.1.3) (0.0.43)\n",
      "Requirement already satisfied: packaging in d:\\anaconda\\lib\\site-packages (from transformers<5.0,>=4.0.0->ltp==4.1.3) (20.4)\n",
      "Requirement already satisfied: certifi>=2017.4.17 in d:\\anaconda\\lib\\site-packages (from requests->transformers<5.0,>=4.0.0->ltp==4.1.3) (2020.6.20)\n",
      "Requirement already satisfied: urllib3!=1.25.0,!=1.25.1,<1.26,>=1.21.1 in d:\\anaconda\\lib\\site-packages (from requests->transformers<5.0,>=4.0.0->ltp==4.1.3) (1.25.9)\n",
      "Requirement already satisfied: chardet<4,>=3.0.2 in d:\\anaconda\\lib\\site-packages (from requests->transformers<5.0,>=4.0.0->ltp==4.1.3) (3.0.4)\n",
      "Requirement already satisfied: idna<3,>=2.5 in d:\\anaconda\\lib\\site-packages (from requests->transformers<5.0,>=4.0.0->ltp==4.1.3) (2.10)\n",
      "Requirement already satisfied: click in d:\\anaconda\\lib\\site-packages (from sacremoses->transformers<5.0,>=4.0.0->ltp==4.1.3) (7.1.2)\n",
      "Requirement already satisfied: six in d:\\anaconda\\lib\\site-packages (from sacremoses->transformers<5.0,>=4.0.0->ltp==4.1.3) (1.15.0)\n",
      "Requirement already satisfied: joblib in d:\\anaconda\\lib\\site-packages (from sacremoses->transformers<5.0,>=4.0.0->ltp==4.1.3) (0.16.0)\n",
      "Requirement already satisfied: pyparsing>=2.0.2 in d:\\anaconda\\lib\\site-packages (from packaging->transformers<5.0,>=4.0.0->ltp==4.1.3) (2.4.7)\n",
      "Installing collected packages: transformers, ltp\n",
      "  Attempting uninstall: transformers\n",
      "    Found existing installation: transformers 3.4.0\n",
      "    Uninstalling transformers-3.4.0:\n",
      "      Successfully uninstalled transformers-3.4.0\n",
      "  Attempting uninstall: ltp\n",
      "    Found existing installation: ltp 4.0.6\n",
      "    Uninstalling ltp-4.0.6:\n",
      "      Successfully uninstalled ltp-4.0.6\n",
      "Successfully installed ltp-4.1.3 transformers-4.4.2\n"
     ]
    },
    {
     "name": "stderr",
     "output_type": "stream",
     "text": [
      "ERROR: -tp 4.0.10 has requirement transformers<=3.4.0,>=3.0, but you'll have transformers 4.4.2 which is incompatible.\n"
     ]
    }
   ],
   "source": [
    "!pip install ltp==4.1.3"
   ]
  },
  {
   "cell_type": "code",
   "execution_count": 1,
   "metadata": {},
   "outputs": [
    {
     "name": "stdout",
     "output_type": "stream",
     "text": [
      "Looking in links: https://download.pytorch.org/whl/torch_stable.html\n",
      "Requirement already satisfied: torch==1.4.0 in d:\\anaconda\\lib\\site-packages (1.4.0+cu92)\n",
      "Collecting torchvision==0.5.0\n",
      "  Using cached https://download.pytorch.org/whl/cu92/torchvision-0.5.0%2Bcu92-cp38-cp38-win_amd64.whl (1.2 MB)\n",
      "Requirement already satisfied: six in d:\\anaconda\\lib\\site-packages (from torchvision==0.5.0) (1.15.0)\n",
      "Requirement already satisfied: pillow>=4.1.1 in d:\\anaconda\\lib\\site-packages (from torchvision==0.5.0) (7.2.0)\n",
      "Requirement already satisfied: numpy in d:\\anaconda\\lib\\site-packages (from torchvision==0.5.0) (1.18.5)\n",
      "Installing collected packages: torchvision\n",
      "Successfully installed torchvision-0.5.0+cu92\n"
     ]
    }
   ],
   "source": [
    "!pip install torch==1.4.0 torchvision==0.5.0 -f https://download.pytorch.org/whl/torch_stable.html"
   ]
  },
  {
   "cell_type": "markdown",
   "metadata": {},
   "source": [
    "## semantic character model"
   ]
  },
  {
   "cell_type": "code",
   "execution_count": 1,
   "metadata": {},
   "outputs": [],
   "source": [
    "##a0-v-a1 equals to Sn v Gn\n",
    "##v-a1 equals to v Gn\n",
    "##a1-v equals to Gn v"
   ]
  },
  {
   "cell_type": "code",
   "execution_count": 3,
   "metadata": {},
   "outputs": [],
   "source": [
    "import pandas as pd\n",
    "#data=pd.read_csv('C:\\\\Users\\\\10312\\\\Desktop\\\\changjiang.csv')\n",
    "data=pd.read_csv('data.csv')\n",
    "data=data.sample(n=4000,random_state=1,axis=0)\n",
    "a=data['摘要'].drop_duplicates().values\n",
    "a=a.tolist()"
   ]
  },
  {
   "cell_type": "code",
   "execution_count": 4,
   "metadata": {},
   "outputs": [
    {
     "data": {
      "text/plain": [
       "255"
      ]
     },
     "execution_count": 4,
     "metadata": {},
     "output_type": "execute_result"
    }
   ],
   "source": [
    "len(a)"
   ]
  },
  {
   "cell_type": "code",
   "execution_count": 5,
   "metadata": {},
   "outputs": [],
   "source": [
    "def getA(seg,i,j):\n",
    "    s=''\n",
    "    if i==j:\n",
    "        s=seg[0][i]\n",
    "    else:\n",
    "        while i<=j:\n",
    "            s=s+seg[0][i]\n",
    "            i=i+1\n",
    "    return s"
   ]
  },
  {
   "cell_type": "code",
   "execution_count": 8,
   "metadata": {},
   "outputs": [],
   "source": [
    "def matchw(zz,dict1,dict2,dict3):\n",
    "    for k in zz:\n",
    "            k=k.replace(' ','')\n",
    "            k=k.replace('[','（')\n",
    "            k=k.replace(']','）')\n",
    "            k=k.replace('(','（')\n",
    "            k=k.replace(')','）')\n",
    "            k=k.replace('^','.')\n",
    "            try:\n",
    "                seg,hidden=ltp.seg([k])\n",
    "            except Exception:\n",
    "                print(k)\n",
    "                print(zz)\n",
    "            srl = ltp.srl(hidden, keep_empty=False)\n",
    "            tt=0                \n",
    "            start=0\n",
    "            end=0\n",
    "            e=0\n",
    "            for i in range(len(srl[0])-1,-1,-1):\n",
    "                f1=0\n",
    "                f2=0\n",
    "                b=''\n",
    "                c=''\n",
    "                d=''\n",
    "                if len(seg[0][srl[0][i][0]])>1:\n",
    "                    for j in srl[0][i][1]:\n",
    "                        #print(j)\n",
    "                        if tt==0:\n",
    "                            if j[0]=='A0':\n",
    "                                a1=getA(seg,j[1],j[2])\n",
    "                                f1=1\n",
    "                                end=j[2]\n",
    "                            elif j[0]=='A1':\n",
    "                                b=getA(seg,j[1],j[2])\n",
    "                                if j[1]>srl[0][i][0]:\n",
    "                                    c=b\n",
    "                                elif j[1]<srl[0][i][0]:\n",
    "                                    d=b\n",
    "                                start=j[1]\n",
    "                                f2=1\n",
    "                                tt=1\n",
    "                            elif j[0]=='A2':\n",
    "                                if b=='':\n",
    "                                    b=getA(seg,j[1],j[2])\n",
    "                                    if j[1]>srl[0][i][0]:\n",
    "                                        c=b\n",
    "                                    elif j[1]<srl[0][i][0]:\n",
    "                                        d=b\n",
    "                                start=j[1]\n",
    "                                f2=1\n",
    "                                tt=1\n",
    "                        else:\n",
    "                            if j[0]=='A0':\n",
    "                                a1=getA(seg,j[1],j[2])\n",
    "                                f1=1\n",
    "                                end=j[2]\n",
    "                            elif j[0]=='A1' and j[2]<start :\n",
    "                                b=getA(seg,j[1],j[2])\n",
    "                                #print(b)\n",
    "                                if j[1]>srl[0][i][0]:\n",
    "                                    c=b\n",
    "                                elif j[1]<srl[0][i][0]:\n",
    "                                    d=b\n",
    "                                    #print(d)\n",
    "                                start=j[1]\n",
    "                                f2=1\n",
    "                            elif j[0]=='A2' and j[2]<start :\n",
    "                                if b=='':\n",
    "                                    b=getA(seg,j[1],j[2])\n",
    "                                    if j[1]>srl[0][i][0]:\n",
    "                                        c=b\n",
    "                                    elif j[1]<srl[0][i][0]:\n",
    "                                        d=b\n",
    "                                start=j[1]\n",
    "                                f2=1\n",
    "                    #print('start')\n",
    "                    #print(start)\n",
    "                    #print('end')\n",
    "                    #print(end)\n",
    "                    #print('start')\n",
    "                    #print(start)\n",
    "                    #print('end')\n",
    "                    #print(end)\n",
    "                    if f1==1 and f2==1 and end<=start and len(seg[0][srl[0][i][0]])==2:\n",
    "                        if (a1,seg[0][srl[0][i][0]],b) not in dict1.keys():\n",
    "                            dict1[(a1,seg[0][srl[0][i][0]],b)]=1\n",
    "                        else:\n",
    "                            dict1[(a1,seg[0][srl[0][i][0]],b)]=dict1[(a1,seg[0][srl[0][i][0]],b)]+1\n",
    "                    elif f1==0 and f2==1 and c!='' and len(seg[0][srl[0][i][0]])==2:\n",
    "                        if (seg[0][srl[0][i][0]],c) not in dict2.keys():\n",
    "                            dict2[(seg[0][srl[0][i][0]],c)]=1\n",
    "                        else:\n",
    "                            dict2[(seg[0][srl[0][i][0]],c)]=dict2[(seg[0][srl[0][i][0]],c)]+1\n",
    "                    elif f1==0 and f2==1 and d!='' and len(seg[0][srl[0][i][0]])==2:\n",
    "                        if (seg[0][srl[0][i][0]],d) not in dict3.keys():\n",
    "                            dict3[(seg[0][srl[0][i][0]],d)]=1\n",
    "                        else:\n",
    "                            dict3[(seg[0][srl[0][i][0]],d)]=dict3[(seg[0][srl[0][i][0]],d)]+1"
   ]
  },
  {
   "cell_type": "code",
   "execution_count": 9,
   "metadata": {},
   "outputs": [],
   "source": [
    "dict1={}\n",
    "dict2={}\n",
    "dict3={}\n",
    "for z in a:\n",
    "    z=z.replace('\\u200b','')\n",
    "    z=z.replace('.','^')\n",
    "    zz=ltp.sent_split([z])\n",
    "    matchw(zz,dict1,dict2,dict3)"
   ]
  },
  {
   "cell_type": "code",
   "execution_count": 10,
   "metadata": {},
   "outputs": [],
   "source": [
    "data=pd.DataFrame()"
   ]
  },
  {
   "cell_type": "code",
   "execution_count": 12,
   "metadata": {},
   "outputs": [],
   "source": [
    "import re\n",
    "#s=\"2019“长江流域重点水域禁捕和建立补偿制度实施方案”的颁布施行\"\n",
    "#mat=re.search( r'《(.*)》', s)\n",
    "#mat.group()"
   ]
  },
  {
   "cell_type": "code",
   "execution_count": 13,
   "metadata": {},
   "outputs": [],
   "source": [
    "# a0-v-a1\n",
    "a0=[]\n",
    "v=[]\n",
    "a1=[]\n",
    "n=[]\n",
    "for i in dict1.keys():\n",
    "    if len(i[0])>1 and len(i[1])==2:\n",
    "        mat=re.search( r'《(.*)》', i[0])\n",
    "        nat=re.search(r'“(.*)”',i[0])\n",
    "        a=\"\"\n",
    "        if mat:\n",
    "            a=a+mat.group()\n",
    "        \n",
    "        if nat:\n",
    "            a=a+nat.group()\n",
    "        if len(a)==0:\n",
    "            a0.append(i[0])\n",
    "        else:\n",
    "            a0.append(a)\n",
    "        v.append(i[1])\n",
    "        a1.append(i[2])\n",
    "        n.append(dict1[i])\n",
    "for i in [a0,v,a1,n]:\n",
    "    df=pd.DataFrame((v for v in i))\n",
    "    data=pd.concat([data,df],axis=1)\n",
    "data.columns=['a0','v','a1','count']"
   ]
  },
  {
   "cell_type": "code",
   "execution_count": 14,
   "metadata": {},
   "outputs": [],
   "source": [
    "#a0-v-a1\n",
    "data.to_csv('a0_v_a1.csv',index=False,encoding='utf_8_sig')"
   ]
  },
  {
   "cell_type": "code",
   "execution_count": 15,
   "metadata": {},
   "outputs": [],
   "source": [
    "data=pd.DataFrame()"
   ]
  },
  {
   "cell_type": "code",
   "execution_count": 16,
   "metadata": {},
   "outputs": [],
   "source": [
    "#v-a1\n",
    "v=[]\n",
    "a1=[]\n",
    "n=[]\n",
    "for i in dict2.keys():\n",
    "    v.append(i[0])\n",
    "    a1.append(i[1])\n",
    "    n.append(dict2[i])\n",
    "for i in [v,a1,n]:\n",
    "    df=pd.DataFrame((v for v in i))\n",
    "    data=pd.concat([data,df],axis=1)\n",
    "data.columns=['v','a1','count']"
   ]
  },
  {
   "cell_type": "code",
   "execution_count": 17,
   "metadata": {},
   "outputs": [],
   "source": [
    "#v-a1\n",
    "data.to_csv('v_a1.csv',index=False,encoding='utf_8_sig')"
   ]
  },
  {
   "cell_type": "code",
   "execution_count": 18,
   "metadata": {},
   "outputs": [],
   "source": [
    "data=pd.DataFrame()"
   ]
  },
  {
   "cell_type": "code",
   "execution_count": 19,
   "metadata": {},
   "outputs": [],
   "source": [
    "#a1-v\n",
    "v=[]\n",
    "a1=[]\n",
    "n=[]\n",
    "for i in dict3.keys():\n",
    "    v.append(i[0])\n",
    "    a1.append(i[1])\n",
    "    n.append(dict3[i])\n",
    "for i in [a1,v,n]:\n",
    "    df=pd.DataFrame((v for v in i))\n",
    "    data=pd.concat([data,df],axis=1)\n",
    "data.columns=['a1','v','count']"
   ]
  },
  {
   "cell_type": "code",
   "execution_count": 20,
   "metadata": {},
   "outputs": [],
   "source": [
    "#a1-v\n",
    "data.to_csv('a1-v.csv',index=False,encoding='utf_8_sig')"
   ]
  },
  {
   "cell_type": "code",
   "execution_count": null,
   "metadata": {},
   "outputs": [],
   "source": []
  },
  {
   "cell_type": "code",
   "execution_count": 102,
   "metadata": {},
   "outputs": [],
   "source": [
    "#data=pd.DataFrame()"
   ]
  },
  {
   "cell_type": "code",
   "execution_count": null,
   "metadata": {},
   "outputs": [],
   "source": [
    "# a0-v-a1\n",
    "#a0=[]\n",
    "#v=[]\n",
    "#a1=[]\n",
    "#n=[]\n",
    "#for i in dict1.keys():\n",
    "#    a0.append(i[0])\n",
    "#    v.append(i[1])\n",
    "#    a1.append(i[2])\n",
    "#    n.append(dict1[i])\n",
    "#for i in [a0,v,a1,n]:\n",
    "#    df=pd.DataFrame((v for v in i))\n",
    "#    data=pd.concat([data,df],axis=1)\n",
    "#data.columns=['a0','v','a1','count']"
   ]
  },
  {
   "cell_type": "code",
   "execution_count": 104,
   "metadata": {},
   "outputs": [],
   "source": [
    "#data['count']=data['count']+1"
   ]
  },
  {
   "cell_type": "code",
   "execution_count": 67,
   "metadata": {},
   "outputs": [],
   "source": [
    "#a0-v-a1\n",
    "#data.to_csv('C:\\\\Users\\\\10312\\\\Desktop\\\\a0_v_a1_new.csv',index=False,encoding='utf_8_sig')"
   ]
  },
  {
   "cell_type": "code",
   "execution_count": null,
   "metadata": {},
   "outputs": [],
   "source": []
  }
 ],
 "metadata": {
  "kernelspec": {
   "display_name": "Python 3",
   "language": "python",
   "name": "python3"
  },
  "language_info": {
   "codemirror_mode": {
    "name": "ipython",
    "version": 3
   },
   "file_extension": ".py",
   "mimetype": "text/x-python",
   "name": "python",
   "nbconvert_exporter": "python",
   "pygments_lexer": "ipython3",
   "version": "3.8.3"
  }
 },
 "nbformat": 4,
 "nbformat_minor": 4
}
