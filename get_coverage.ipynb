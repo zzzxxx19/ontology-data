{
 "cells": [
  {
   "cell_type": "code",
   "execution_count": 18,
   "metadata": {},
   "outputs": [],
   "source": [
    "import math as ma"
   ]
  },
  {
   "cell_type": "code",
   "execution_count": 68,
   "metadata": {},
   "outputs": [],
   "source": [
    "import pandas as pd\n",
    "data=pd.read_csv('data.csv')\n",
    "dd=data.sample(n=4000,random_state=1,axis=0)"
   ]
  },
  {
   "cell_type": "code",
   "execution_count": 69,
   "metadata": {},
   "outputs": [
    {
     "data": {
      "text/plain": [
       "RangeIndex(start=0, stop=6272, step=1)"
      ]
     },
     "execution_count": 69,
     "metadata": {},
     "output_type": "execute_result"
    }
   ],
   "source": [
    "data.index"
   ]
  },
  {
   "cell_type": "markdown",
   "metadata": {},
   "source": [
    "# coverage in validation set"
   ]
  },
  {
   "cell_type": "code",
   "execution_count": 70,
   "metadata": {},
   "outputs": [],
   "source": [
    "for i in dd.index:\n",
    "    data=data.drop(index=i,axis=1)"
   ]
  },
  {
   "cell_type": "code",
   "execution_count": 71,
   "metadata": {},
   "outputs": [],
   "source": [
    "ab=data['Abstract'].values.tolist()  #.drop_duplicates()"
   ]
  },
  {
   "cell_type": "code",
   "execution_count": 92,
   "metadata": {},
   "outputs": [],
   "source": [
    "ava=pd.read_csv('a0_v_a1_result.csv')\n",
    "va=pd.read_csv('v_a1_result.csv')\n",
    "av=pd.read_csv(('a1_v_result.csv'))"
   ]
  },
  {
   "cell_type": "code",
   "execution_count": 93,
   "metadata": {},
   "outputs": [],
   "source": [
    "ava=ava[['v','n','hyx']].values.tolist()"
   ]
  },
  {
   "cell_type": "code",
   "execution_count": 94,
   "metadata": {},
   "outputs": [],
   "source": [
    "va=va[['v','n','hyx']].values.tolist()\n",
    "av=av[['v','n','hyx']].values.tolist()"
   ]
  },
  {
   "cell_type": "code",
   "execution_count": 95,
   "metadata": {},
   "outputs": [],
   "source": [
    "#total=[]\n",
    "#for i in ava:\n",
    "#    total.append(i)\n",
    "#for i in va:\n",
    "#    total.append(i)\n",
    "#for i in av:\n",
    "#    total.append(i)"
   ]
  },
  {
   "cell_type": "code",
   "execution_count": 96,
   "metadata": {},
   "outputs": [],
   "source": [
    "total1=[]\n",
    "total2=[]\n",
    "total3=[]\n",
    "def get_hyx_model(total1,total2,total3,ava,av,va,n):\n",
    "    for i in ava:\n",
    "        if i[2]>0:\n",
    "            total1.append(i)\n",
    "    for i in va:\n",
    "        if i[2]>0:\n",
    "            total2.append(i)\n",
    "    for i in av:\n",
    "        if i[2]>0:\n",
    "            total3.append(i)\n",
    "    total1=pd.DataFrame(total1,columns=['v','n','hyx'])   #get a0-v-a1 model\n",
    "    total2=pd.DataFrame(total2,columns=['v','n','hyx'])   #get v-a1 model\n",
    "    total3=pd.DataFrame(total3,columns=['v','n','hyx'])   #get a1-v model\n",
    "    total1=total1.groupby('v').head(n).reset_index(drop=True)  #get n head of each v_n group\n",
    "    total2=total2.groupby('v').head(n).reset_index(drop=True)\n",
    "    total3=total3.groupby('v').head(n).reset_index(drop=True)\n",
    "    total1=total1.values.tolist()\n",
    "    total2=total2.values.tolist()\n",
    "    total3=total3.values.tolist()\n",
    "    #total=pd.concat([total1,total2,total3],axis=0)   #combine model\n",
    "    #total=total.drop_duplicates()   \n",
    "    #total=total.values.tolist()"
   ]
  },
  {
   "cell_type": "code",
   "execution_count": null,
   "metadata": {},
   "outputs": [],
   "source": [
    "def get_rep_model(total1,total2,total3,ava,av,va,n):\n",
    "    for i in ava:\n",
    "        #if i[2]>0:\n",
    "        total1.append(i)\n",
    "    for i in va:\n",
    "        #if i[2]>0:\n",
    "        total2.append(i)\n",
    "    for i in av:\n",
    "        #if i[2]>0:\n",
    "        total3.append(i)\n",
    "    total1=pd.DataFrame(total1,columns=['v','n','rep'])   \n",
    "    total2=pd.DataFrame(total2,columns=['v','n','rep'])   \n",
    "    total3=pd.DataFrame(total3,columns=['v','n','rep'])   \n",
    "    total1=total1.groupby('v').head(n).reset_index(drop=True)  \n",
    "    total2=total2.groupby('v').head(n).reset_index(drop=True)\n",
    "    total3=total3.groupby('v').head(n).reset_index(drop=True)\n",
    "    total1=total1.values.tolist()\n",
    "    total2=total2.values.tolist()\n",
    "    total3=total3.values.tolist()\n",
    "    #total=pd.concat([total1,total2,total3],axis=0)   \n",
    "    #total=total.drop_duplicates()   \n",
    "    #total=total.values.tolist()"
   ]
  },
  {
   "cell_type": "code",
   "execution_count": null,
   "metadata": {},
   "outputs": [],
   "source": [
    "get_hyx_model(total1,total2,total3,ava,va,av,3)\n",
    "get_rep_model(total1,total2,total3,ava,va,av,3)"
   ]
  },
  {
   "cell_type": "code",
   "execution_count": 77,
   "metadata": {},
   "outputs": [],
   "source": [
    "def getA(seg,i,j):\n",
    "    s=''\n",
    "    if i==j:\n",
    "        s=seg[0][i]\n",
    "    else:\n",
    "        while i<=j:\n",
    "            s=s+seg[0][i]\n",
    "            i=i+1\n",
    "    return s"
   ]
  },
  {
   "cell_type": "code",
   "execution_count": 10,
   "metadata": {},
   "outputs": [],
   "source": [
    "from ltp import LTP\n",
    "ltp = LTP()\n",
    "ltp.add_words(words=[\"人大代表\", \"生态文明\",\"扬子江\",\"长江大保护\",\"习近平\",'禁捕','退捕','禁渔'], max_window=5)"
   ]
  },
  {
   "cell_type": "code",
   "execution_count": 54,
   "metadata": {},
   "outputs": [],
   "source": [
    "def matchw(zz,dict1,dict2,dict3,f):\n",
    "    for k in zz:\n",
    "            k=k.replace(' ','')\n",
    "            k=k.replace('[','（')\n",
    "            k=k.replace(']','）')\n",
    "            k=k.replace('(','（')\n",
    "            k=k.replace(')','）')\n",
    "            k=k.replace('^','.')\n",
    "            try:\n",
    "                seg,hidden=ltp.seg([k])\n",
    "            except Exception:\n",
    "                print(k)\n",
    "                print(zz)\n",
    "            srl = ltp.srl(hidden, keep_empty=False)\n",
    "            tt=0                \n",
    "            start=0\n",
    "            end=0\n",
    "            e=0\n",
    "            for i in range(len(srl[0])-1,-1,-1):\n",
    "                f1=0\n",
    "                f2=0\n",
    "                b=''\n",
    "                c=''\n",
    "                d=''\n",
    "                if len(seg[0][srl[0][i][0]])>1:\n",
    "                    for j in srl[0][i][1]:\n",
    "                        #print(j)\n",
    "                        if tt==0:\n",
    "                            if j[0]=='A0':\n",
    "                                a1=getA(seg,j[1],j[2])\n",
    "                                f1=1\n",
    "                                end=j[2]\n",
    "                            elif j[0]=='A1':\n",
    "                                b=getA(seg,j[1],j[2])\n",
    "                                if j[1]>srl[0][i][0]:\n",
    "                                    c=b\n",
    "                                elif j[1]<srl[0][i][0]:\n",
    "                                    d=b\n",
    "                                start=j[1]\n",
    "                                f2=1\n",
    "                                tt=1\n",
    "                            elif j[0]=='A2':\n",
    "                                if b=='':\n",
    "                                    b=getA(seg,j[1],j[2])\n",
    "                                    if j[1]>srl[0][i][0]:\n",
    "                                        c=b\n",
    "                                    elif j[1]<srl[0][i][0]:\n",
    "                                        d=b\n",
    "                                start=j[1]\n",
    "                                f2=1\n",
    "                                tt=1\n",
    "                        else:\n",
    "                            if j[0]=='A0':\n",
    "                                a1=getA(seg,j[1],j[2])\n",
    "                                f1=1\n",
    "                                end=j[2]\n",
    "                            elif j[0]=='A1' and j[2]<start :\n",
    "                                b=getA(seg,j[1],j[2])\n",
    "                                #print(b)\n",
    "                                if j[1]>srl[0][i][0]:\n",
    "                                    c=b\n",
    "                                elif j[1]<srl[0][i][0]:\n",
    "                                    d=b\n",
    "                                    #print(d)\n",
    "                                start=j[1]\n",
    "                                f2=1\n",
    "                            elif j[0]=='A2' and j[2]<start :\n",
    "                                if b=='':\n",
    "                                    b=getA(seg,j[1],j[2])\n",
    "                                    if j[1]>srl[0][i][0]:\n",
    "                                        c=b\n",
    "                                    elif j[1]<srl[0][i][0]:\n",
    "                                        d=b\n",
    "                                start=j[1]\n",
    "                                f2=1\n",
    "                    #print('start')\n",
    "                    #print(start)\n",
    "                    #print('end')\n",
    "                    #print(end)\n",
    "                    #print('start')\n",
    "                    #print(start)\n",
    "                    #print('end')\n",
    "                    #print(end)\n",
    "                    if f1==1 and f2==1 and end<=start and len(seg[0][srl[0][i][0]])==2:\n",
    "                        if (a1,seg[0][srl[0][i][0]],b) not in dict1.keys() and (a1,seg[0][srl[0][i][0]],b) not in f:\n",
    "                            dict1[(a1,seg[0][srl[0][i][0]],b)]=1\n",
    "                            f.append((a1,seg[0][srl[0][i][0]],b))\n",
    "                        else:\n",
    "                            if (a1,seg[0][srl[0][i][0]],b) not in f:\n",
    "                                dict1[(a1,seg[0][srl[0][i][0]],b)]=dict1[(a1,seg[0][srl[0][i][0]],b)]+1\n",
    "                                f.append((a1,seg[0][srl[0][i][0]],b))\n",
    "                    elif f1==0 and f2==1 and c!='' and len(seg[0][srl[0][i][0]])==2:\n",
    "                        if (seg[0][srl[0][i][0]],c) not in dict2.keys() and (seg[0][srl[0][i][0]],c) not in f:\n",
    "                            dict2[(seg[0][srl[0][i][0]],c)]=1\n",
    "                            f.append((seg[0][srl[0][i][0]],c))\n",
    "                        else:\n",
    "                            if (seg[0][srl[0][i][0]],c) not in f:\n",
    "                                dict2[(seg[0][srl[0][i][0]],c)]=dict2[(seg[0][srl[0][i][0]],c)]+1\n",
    "                                f.append((seg[0][srl[0][i][0]],c))\n",
    "                    elif f1==0 and f2==1 and d!='' and len(seg[0][srl[0][i][0]])==2:\n",
    "                        if (seg[0][srl[0][i][0]],d) not in dict3.keys() and (seg[0][srl[0][i][0]],d) not in f:\n",
    "                            dict3[(seg[0][srl[0][i][0]],d)]=1\n",
    "                            f.append((seg[0][srl[0][i][0]],d))\n",
    "                        else:\n",
    "                            if (seg[0][srl[0][i][0]],d) not in f:\n",
    "                                dict3[(seg[0][srl[0][i][0]],d)]=dict3[(seg[0][srl[0][i][0]],d)]+1\n",
    "                                f.append((seg[0][srl[0][i][0]],d))"
   ]
  },
  {
   "cell_type": "code",
   "execution_count": 78,
   "metadata": {},
   "outputs": [],
   "source": [
    "dict1={}\n",
    "dict2={}\n",
    "dict3={}\n",
    "for z in ab:\n",
    "    f=[]\n",
    "    z=z.replace('\\u200b','')\n",
    "    z=z.replace('.','^')\n",
    "    zz=ltp.sent_split([z])\n",
    "    matchw(zz,dict1,dict2,dict3,f)\n",
    "    g=z.replace('，','。')\n",
    "    xx=ltp.sent_split([g])\n",
    "    matchw(xx,dict1,dict2,dict3,f)"
   ]
  },
  {
   "cell_type": "code",
   "execution_count": 79,
   "metadata": {},
   "outputs": [],
   "source": [
    "a0a0=[]\n",
    "for i in dict1.keys():\n",
    "    a0a0.append([i[0],i[1],i[2],dict1[i]])\n",
    "vva1=[]\n",
    "for i in dict2.keys():\n",
    "    vva1.append([i[0],i[1],dict2[i]])\n",
    "a1a1v=[]\n",
    "for i in dict3.keys():\n",
    "    a1a1v.append([i[1],i[0],dict3[i]])"
   ]
  },
  {
   "cell_type": "code",
   "execution_count": 97,
   "metadata": {
    "scrolled": true
   },
   "outputs": [
    {
     "name": "stdout",
     "output_type": "stream",
     "text": [
      "a0-v-a1条数\n",
      "488\n",
      "匹配上的条数\n",
      "199\n",
      "v-a1条数\n",
      "538\n",
      "匹配上的条数\n",
      "246\n",
      "a1-v条数\n",
      "181\n",
      "匹配上的条数\n",
      "65\n"
     ]
    }
   ],
   "source": [
    "\n",
    "m0=[]\n",
    "for i in a0a0:\n",
    "    for j in total1:\n",
    "        if i[1]==j[0] and j[1] in i[2]:\n",
    "            if [j[0],j[1]] not in m0:\n",
    "                m0.append([j[0],j[1]])\n",
    "            break\n",
    "print('a0-v-a1条数')\n",
    "print(len(total1))\n",
    "print('匹配上的条数')\n",
    "print(len(m0))\n",
    "\n",
    "m1=[]\n",
    "for i in vva1:\n",
    "    for j in total2:\n",
    "        if i[0]==j[0] and j[1] in i[1]:\n",
    "            if [j[0],j[1]] not in m1:\n",
    "                m1.append([j[0],j[1]])\n",
    "            break\n",
    "print('v-a1条数')\n",
    "print(len(total2))\n",
    "print('匹配上的条数')\n",
    "print(len(m1))\n",
    "m2=[]\n",
    "for i in a1a1v:\n",
    "    for j in total3:\n",
    "        if i[1]==j[0] and j[1] in i[0]:\n",
    "            if [j[0],j[1]] not in m2:\n",
    "                m2.append([j[0],j[1]])\n",
    "            break\n",
    "print('a1-v条数')\n",
    "print(len(total3))\n",
    "print('匹配上的条数')\n",
    "print(len(m2))"
   ]
  },
  {
   "cell_type": "markdown",
   "metadata": {},
   "source": [
    "# coverage in test set"
   ]
  },
  {
   "cell_type": "code",
   "execution_count": 37,
   "metadata": {},
   "outputs": [],
   "source": [
    "import pandas as pd\n",
    "test4=pd.read_csv('changjiang_test_1000.csv')"
   ]
  },
  {
   "cell_type": "code",
   "execution_count": 39,
   "metadata": {},
   "outputs": [],
   "source": [
    "#test=pd.concat([test,test1,test2],axis=0)"
   ]
  },
  {
   "cell_type": "code",
   "execution_count": 40,
   "metadata": {},
   "outputs": [],
   "source": [
    "#test=test.drop_duplicates().sample(n=1500,random_state=1)\n",
    "#test4=test4.drop_duplicates()"
   ]
  },
  {
   "cell_type": "code",
   "execution_count": 41,
   "metadata": {},
   "outputs": [],
   "source": [
    "test4=test4[['摘要']].drop_duplicates()"
   ]
  },
  {
   "cell_type": "code",
   "execution_count": 42,
   "metadata": {},
   "outputs": [],
   "source": [
    "ab=test4['摘要'].values.tolist()"
   ]
  },
  {
   "cell_type": "code",
   "execution_count": 43,
   "metadata": {},
   "outputs": [],
   "source": [
    "def matchs(zz):\n",
    "    r=[]\n",
    "    for k in zz:\n",
    "            k=k.replace(' ','')\n",
    "            k=k.replace('[','（')\n",
    "            k=k.replace(']','）')\n",
    "            k=k.replace('(','（')\n",
    "            k=k.replace(')','）')\n",
    "            k=k.replace('^','.')\n",
    "            try:\n",
    "                seg,hidden=ltp.seg([k])\n",
    "            except Exception:\n",
    "                print(k)\n",
    "                print(zz)\n",
    "            srl = ltp.srl(hidden, keep_empty=False)\n",
    "            tt=0                \n",
    "            start=0\n",
    "            end=0\n",
    "            e=0\n",
    "            for i in range(len(srl[0])-1,-1,-1):\n",
    "                f1=0\n",
    "                f2=0\n",
    "                b=''\n",
    "                c=''\n",
    "                d=''\n",
    "                if len(seg[0][srl[0][i][0]])==2:\n",
    "                    for j in srl[0][i][1]:\n",
    "                        #print(j)\n",
    "                        if tt==0:\n",
    "                            if j[0]=='A0':\n",
    "                                a1=getA(seg,j[1],j[2])\n",
    "                                f1=1\n",
    "                                end=j[2]\n",
    "                            elif j[0]=='A1':\n",
    "                                b=getA(seg,j[1],j[2])\n",
    "                                if j[1]>srl[0][i][0]:\n",
    "                                    c=b\n",
    "                                elif j[1]<srl[0][i][0]:\n",
    "                                    d=b\n",
    "                                start=j[1]\n",
    "                                f2=1\n",
    "                                tt=1\n",
    "                            elif j[0]=='A2':\n",
    "                                if b=='':\n",
    "                                    b=getA(seg,j[1],j[2])\n",
    "                                    if j[1]>srl[0][i][0]:\n",
    "                                        c=b\n",
    "                                    elif j[1]<srl[0][i][0]:\n",
    "                                        d=b\n",
    "                                start=j[1]\n",
    "                                f2=1\n",
    "                                tt=1\n",
    "                        else:\n",
    "                            if j[0]=='A0':\n",
    "                                a1=getA(seg,j[1],j[2])\n",
    "                                f1=1\n",
    "                                end=j[2]\n",
    "                            elif j[0]=='A1' and j[2]<start :\n",
    "                                b=getA(seg,j[1],j[2])\n",
    "                                #print(b)\n",
    "                                if j[1]>srl[0][i][0]:\n",
    "                                    c=b\n",
    "                                elif j[1]<srl[0][i][0]:\n",
    "                                    d=b\n",
    "                                    #print(d)\n",
    "                                start=j[1]\n",
    "                                f2=1\n",
    "                            elif j[0]=='A2' and j[2]<start :\n",
    "                                if b=='':\n",
    "                                    b=getA(seg,j[1],j[2])\n",
    "                                    if j[1]>srl[0][i][0]:\n",
    "                                        c=b\n",
    "                                    elif j[1]<srl[0][i][0]:\n",
    "                                        d=b\n",
    "                                start=j[1]\n",
    "                                f2=1\n",
    "                    #print('start')\n",
    "                    #print(start)\n",
    "                    #print('end')\n",
    "                    #print(end)\n",
    "                    if f1==1 and f2==1 and end<=start:\n",
    "                        if [seg[0][srl[0][i][0]],b] not in r:\n",
    "                            r.append([seg[0][srl[0][i][0]],b])\n",
    "                    elif f1==0 and f2==1 and c!='':\n",
    "                        if [seg[0][srl[0][i][0]],c] not in r:\n",
    "                            r.append([seg[0][srl[0][i][0]],c])\n",
    "                    elif f1==0 and f2==1 and d!='':\n",
    "                        if [seg[0][srl[0][i][0]],d] not in r:\n",
    "                            r.append([seg[0][srl[0][i][0]],d])\n",
    "\n",
    "    return r"
   ]
  },
  {
   "cell_type": "code",
   "execution_count": 44,
   "metadata": {},
   "outputs": [
    {
     "name": "stdout",
     "output_type": "stream",
     "text": [
      "done\n",
      "0.593\n",
      "done\n",
      "0.859\n",
      "done\n",
      "0.913\n",
      "done\n",
      "0.94\n",
      "done\n",
      "0.949\n",
      "done\n",
      "0.973\n"
     ]
    },
    {
     "ename": "KeyboardInterrupt",
     "evalue": "",
     "output_type": "error",
     "traceback": [
      "\u001b[1;31m---------------------------------------------------------------------------\u001b[0m",
      "\u001b[1;31mKeyboardInterrupt\u001b[0m                         Traceback (most recent call last)",
      "\u001b[1;32m<ipython-input-44-a9d235a8517f>\u001b[0m in \u001b[0;36m<module>\u001b[1;34m\u001b[0m\n\u001b[0;32m     35\u001b[0m         \u001b[0mg\u001b[0m\u001b[1;33m=\u001b[0m\u001b[0mz\u001b[0m\u001b[1;33m.\u001b[0m\u001b[0mreplace\u001b[0m\u001b[1;33m(\u001b[0m\u001b[1;34m'，'\u001b[0m\u001b[1;33m,\u001b[0m\u001b[1;34m'。'\u001b[0m\u001b[1;33m)\u001b[0m\u001b[1;33m\u001b[0m\u001b[1;33m\u001b[0m\u001b[0m\n\u001b[0;32m     36\u001b[0m         \u001b[0mxx\u001b[0m\u001b[1;33m=\u001b[0m\u001b[0mltp\u001b[0m\u001b[1;33m.\u001b[0m\u001b[0msent_split\u001b[0m\u001b[1;33m(\u001b[0m\u001b[1;33m[\u001b[0m\u001b[0mg\u001b[0m\u001b[1;33m]\u001b[0m\u001b[1;33m)\u001b[0m\u001b[1;33m\u001b[0m\u001b[1;33m\u001b[0m\u001b[0m\n\u001b[1;32m---> 37\u001b[1;33m         \u001b[0mx\u001b[0m\u001b[1;33m=\u001b[0m\u001b[0mmatchs\u001b[0m\u001b[1;33m(\u001b[0m\u001b[0mxx\u001b[0m\u001b[1;33m)\u001b[0m         \u001b[1;31m#再细分新闻，获取三元组\u001b[0m\u001b[1;33m\u001b[0m\u001b[1;33m\u001b[0m\u001b[0m\n\u001b[0m\u001b[0;32m     38\u001b[0m         \u001b[1;32mfor\u001b[0m \u001b[0ml\u001b[0m \u001b[1;32min\u001b[0m \u001b[0mx\u001b[0m\u001b[1;33m:\u001b[0m\u001b[1;33m\u001b[0m\u001b[1;33m\u001b[0m\u001b[0m\n\u001b[0;32m     39\u001b[0m             \u001b[1;32mif\u001b[0m \u001b[0ml\u001b[0m \u001b[1;32mnot\u001b[0m \u001b[1;32min\u001b[0m \u001b[0mr\u001b[0m\u001b[1;33m:\u001b[0m\u001b[1;33m\u001b[0m\u001b[1;33m\u001b[0m\u001b[0m\n",
      "\u001b[1;32m<ipython-input-43-f300894da89d>\u001b[0m in \u001b[0;36mmatchs\u001b[1;34m(zz)\u001b[0m\n\u001b[0;32m      9\u001b[0m             \u001b[0mk\u001b[0m\u001b[1;33m=\u001b[0m\u001b[0mk\u001b[0m\u001b[1;33m.\u001b[0m\u001b[0mreplace\u001b[0m\u001b[1;33m(\u001b[0m\u001b[1;34m'^'\u001b[0m\u001b[1;33m,\u001b[0m\u001b[1;34m'.'\u001b[0m\u001b[1;33m)\u001b[0m\u001b[1;33m\u001b[0m\u001b[1;33m\u001b[0m\u001b[0m\n\u001b[0;32m     10\u001b[0m             \u001b[1;32mtry\u001b[0m\u001b[1;33m:\u001b[0m\u001b[1;33m\u001b[0m\u001b[1;33m\u001b[0m\u001b[0m\n\u001b[1;32m---> 11\u001b[1;33m                 \u001b[0mseg\u001b[0m\u001b[1;33m,\u001b[0m\u001b[0mhidden\u001b[0m\u001b[1;33m=\u001b[0m\u001b[0mltp\u001b[0m\u001b[1;33m.\u001b[0m\u001b[0mseg\u001b[0m\u001b[1;33m(\u001b[0m\u001b[1;33m[\u001b[0m\u001b[0mk\u001b[0m\u001b[1;33m]\u001b[0m\u001b[1;33m)\u001b[0m\u001b[1;33m\u001b[0m\u001b[1;33m\u001b[0m\u001b[0m\n\u001b[0m\u001b[0;32m     12\u001b[0m             \u001b[1;32mexcept\u001b[0m \u001b[0mException\u001b[0m\u001b[1;33m:\u001b[0m\u001b[1;33m\u001b[0m\u001b[1;33m\u001b[0m\u001b[0m\n\u001b[0;32m     13\u001b[0m                 \u001b[0mprint\u001b[0m\u001b[1;33m(\u001b[0m\u001b[0mk\u001b[0m\u001b[1;33m)\u001b[0m\u001b[1;33m\u001b[0m\u001b[1;33m\u001b[0m\u001b[0m\n",
      "\u001b[1;32mD:\\anaconda\\lib\\site-packages\\ltp\\frontend.py\u001b[0m in \u001b[0;36mwrapper\u001b[1;34m(*args, **kwargs)\u001b[0m\n\u001b[0;32m     48\u001b[0m     \u001b[1;32mdef\u001b[0m \u001b[0mwrapper\u001b[0m\u001b[1;33m(\u001b[0m\u001b[1;33m*\u001b[0m\u001b[0margs\u001b[0m\u001b[1;33m,\u001b[0m \u001b[1;33m**\u001b[0m\u001b[0mkwargs\u001b[0m\u001b[1;33m)\u001b[0m\u001b[1;33m:\u001b[0m\u001b[1;33m\u001b[0m\u001b[1;33m\u001b[0m\u001b[0m\n\u001b[0;32m     49\u001b[0m         \u001b[1;32mwith\u001b[0m \u001b[0mtorch\u001b[0m\u001b[1;33m.\u001b[0m\u001b[0mno_grad\u001b[0m\u001b[1;33m(\u001b[0m\u001b[1;33m)\u001b[0m\u001b[1;33m:\u001b[0m\u001b[1;33m\u001b[0m\u001b[1;33m\u001b[0m\u001b[0m\n\u001b[1;32m---> 50\u001b[1;33m             \u001b[1;32mreturn\u001b[0m \u001b[0mfunc\u001b[0m\u001b[1;33m(\u001b[0m\u001b[1;33m*\u001b[0m\u001b[0margs\u001b[0m\u001b[1;33m,\u001b[0m \u001b[1;33m**\u001b[0m\u001b[0mkwargs\u001b[0m\u001b[1;33m)\u001b[0m\u001b[1;33m\u001b[0m\u001b[1;33m\u001b[0m\u001b[0m\n\u001b[0m\u001b[0;32m     51\u001b[0m \u001b[1;33m\u001b[0m\u001b[0m\n\u001b[0;32m     52\u001b[0m     \u001b[1;32mreturn\u001b[0m \u001b[0mwrapper\u001b[0m\u001b[1;33m\u001b[0m\u001b[1;33m\u001b[0m\u001b[0m\n",
      "\u001b[1;32mD:\\anaconda\\lib\\site-packages\\ltp\\frontend.py\u001b[0m in \u001b[0;36mseg\u001b[1;34m(self, inputs, truncation, is_preseged)\u001b[0m\n\u001b[0;32m    244\u001b[0m             \u001b[1;33m**\u001b[0m\u001b[0mkwargs\u001b[0m\u001b[1;33m\u001b[0m\u001b[1;33m\u001b[0m\u001b[0m\n\u001b[0;32m    245\u001b[0m         )\n\u001b[1;32m--> 246\u001b[1;33m         \u001b[0mcls\u001b[0m\u001b[1;33m,\u001b[0m \u001b[0mhidden\u001b[0m\u001b[1;33m,\u001b[0m \u001b[0mseg\u001b[0m\u001b[1;33m,\u001b[0m \u001b[0mlengths\u001b[0m \u001b[1;33m=\u001b[0m \u001b[0mself\u001b[0m\u001b[1;33m.\u001b[0m\u001b[0m_seg\u001b[0m\u001b[1;33m(\u001b[0m\u001b[0mtokenized\u001b[0m\u001b[1;33m,\u001b[0m \u001b[0mis_preseged\u001b[0m\u001b[1;33m=\u001b[0m\u001b[0mis_preseged\u001b[0m\u001b[1;33m)\u001b[0m\u001b[1;33m\u001b[0m\u001b[1;33m\u001b[0m\u001b[0m\n\u001b[0m\u001b[0;32m    247\u001b[0m \u001b[1;33m\u001b[0m\u001b[0m\n\u001b[0;32m    248\u001b[0m         batch_prefix = [[\n",
      "\u001b[1;32mD:\\anaconda\\lib\\site-packages\\ltp\\frontend.py\u001b[0m in \u001b[0;36mwrapper\u001b[1;34m(*args, **kwargs)\u001b[0m\n\u001b[0;32m     48\u001b[0m     \u001b[1;32mdef\u001b[0m \u001b[0mwrapper\u001b[0m\u001b[1;33m(\u001b[0m\u001b[1;33m*\u001b[0m\u001b[0margs\u001b[0m\u001b[1;33m,\u001b[0m \u001b[1;33m**\u001b[0m\u001b[0mkwargs\u001b[0m\u001b[1;33m)\u001b[0m\u001b[1;33m:\u001b[0m\u001b[1;33m\u001b[0m\u001b[1;33m\u001b[0m\u001b[0m\n\u001b[0;32m     49\u001b[0m         \u001b[1;32mwith\u001b[0m \u001b[0mtorch\u001b[0m\u001b[1;33m.\u001b[0m\u001b[0mno_grad\u001b[0m\u001b[1;33m(\u001b[0m\u001b[1;33m)\u001b[0m\u001b[1;33m:\u001b[0m\u001b[1;33m\u001b[0m\u001b[1;33m\u001b[0m\u001b[0m\n\u001b[1;32m---> 50\u001b[1;33m             \u001b[1;32mreturn\u001b[0m \u001b[0mfunc\u001b[0m\u001b[1;33m(\u001b[0m\u001b[1;33m*\u001b[0m\u001b[0margs\u001b[0m\u001b[1;33m,\u001b[0m \u001b[1;33m**\u001b[0m\u001b[0mkwargs\u001b[0m\u001b[1;33m)\u001b[0m\u001b[1;33m\u001b[0m\u001b[1;33m\u001b[0m\u001b[0m\n\u001b[0m\u001b[0;32m     51\u001b[0m \u001b[1;33m\u001b[0m\u001b[0m\n\u001b[0;32m     52\u001b[0m     \u001b[1;32mreturn\u001b[0m \u001b[0mwrapper\u001b[0m\u001b[1;33m\u001b[0m\u001b[1;33m\u001b[0m\u001b[0m\n",
      "\u001b[1;32mD:\\anaconda\\lib\\site-packages\\ltp\\frontend.py\u001b[0m in \u001b[0;36m_seg\u001b[1;34m(self, tokenizerd, is_preseged)\u001b[0m\n\u001b[0;32m    199\u001b[0m     \u001b[1;32mdef\u001b[0m \u001b[0m_seg\u001b[0m\u001b[1;33m(\u001b[0m\u001b[0mself\u001b[0m\u001b[1;33m,\u001b[0m \u001b[0mtokenizerd\u001b[0m\u001b[1;33m,\u001b[0m \u001b[0mis_preseged\u001b[0m\u001b[1;33m=\u001b[0m\u001b[1;32mFalse\u001b[0m\u001b[1;33m)\u001b[0m\u001b[1;33m:\u001b[0m\u001b[1;33m\u001b[0m\u001b[1;33m\u001b[0m\u001b[0m\n\u001b[0;32m    200\u001b[0m         \u001b[0minput_ids\u001b[0m \u001b[1;33m=\u001b[0m \u001b[0mtokenizerd\u001b[0m\u001b[1;33m[\u001b[0m\u001b[1;34m'input_ids'\u001b[0m\u001b[1;33m]\u001b[0m\u001b[1;33m.\u001b[0m\u001b[0mto\u001b[0m\u001b[1;33m(\u001b[0m\u001b[0mself\u001b[0m\u001b[1;33m.\u001b[0m\u001b[0mdevice\u001b[0m\u001b[1;33m)\u001b[0m\u001b[1;33m\u001b[0m\u001b[1;33m\u001b[0m\u001b[0m\n\u001b[1;32m--> 201\u001b[1;33m         \u001b[0mattention_mask\u001b[0m \u001b[1;33m=\u001b[0m \u001b[0mtokenizerd\u001b[0m\u001b[1;33m[\u001b[0m\u001b[1;34m'attention_mask'\u001b[0m\u001b[1;33m]\u001b[0m\u001b[1;33m.\u001b[0m\u001b[0mto\u001b[0m\u001b[1;33m(\u001b[0m\u001b[0mself\u001b[0m\u001b[1;33m.\u001b[0m\u001b[0mdevice\u001b[0m\u001b[1;33m)\u001b[0m\u001b[1;33m\u001b[0m\u001b[1;33m\u001b[0m\u001b[0m\n\u001b[0m\u001b[0;32m    202\u001b[0m         \u001b[0mtoken_type_ids\u001b[0m \u001b[1;33m=\u001b[0m \u001b[0mtokenizerd\u001b[0m\u001b[1;33m[\u001b[0m\u001b[1;34m'token_type_ids'\u001b[0m\u001b[1;33m]\u001b[0m\u001b[1;33m.\u001b[0m\u001b[0mto\u001b[0m\u001b[1;33m(\u001b[0m\u001b[0mself\u001b[0m\u001b[1;33m.\u001b[0m\u001b[0mdevice\u001b[0m\u001b[1;33m)\u001b[0m\u001b[1;33m\u001b[0m\u001b[1;33m\u001b[0m\u001b[0m\n\u001b[0;32m    203\u001b[0m         \u001b[0mlength\u001b[0m \u001b[1;33m=\u001b[0m \u001b[0mtorch\u001b[0m\u001b[1;33m.\u001b[0m\u001b[0msum\u001b[0m\u001b[1;33m(\u001b[0m\u001b[0mattention_mask\u001b[0m\u001b[1;33m,\u001b[0m \u001b[0mdim\u001b[0m\u001b[1;33m=\u001b[0m\u001b[1;33m-\u001b[0m\u001b[1;36m1\u001b[0m\u001b[1;33m)\u001b[0m \u001b[1;33m-\u001b[0m \u001b[1;36m2\u001b[0m\u001b[1;33m\u001b[0m\u001b[1;33m\u001b[0m\u001b[0m\n",
      "\u001b[1;31mKeyboardInterrupt\u001b[0m: "
     ]
    }
   ],
   "source": [
    "n=1\n",
    "for i in range(1,10):\n",
    "    t=0\n",
    "    y=0\n",
    "    u=0\n",
    "    total1=[]\n",
    "    total2=[]\n",
    "    total3=[]\n",
    "    for i in ava:\n",
    "        if i[2]>0:\n",
    "            total1.append(i)\n",
    "    for i in va:\n",
    "        if i[2]>0:\n",
    "            total2.append(i)\n",
    "    for i in av:\n",
    "        if i[2]>0:\n",
    "            total3.append(i)\n",
    "    total1=pd.DataFrame(total1,columns=['v','n','hyx'])   #get a0-v-a1 model\n",
    "    total2=pd.DataFrame(total2,columns=['v','n','hyx'])   #get v-a1 model\n",
    "    total3=pd.DataFrame(total3,columns=['v','n','hyx'])   #get a1-v model\n",
    "    total1=total1.groupby('v').head(n).reset_index(drop=True)  #get n head of each v_n group\n",
    "    total2=total2.groupby('v').head(n).reset_index(drop=True)\n",
    "    total3=total3.groupby('v').head(n).reset_index(drop=True)\n",
    "    total=pd.concat([total1,total2,total3],axis=0)   #combine model\n",
    "    total=total.drop_duplicates()   #drop duplicates\n",
    "    #total=total.groupby('v').apply(lambda x: x.sort_values('rep', ascending=False)).reset_index(drop=True).groupby('v').head(n).reset_index(drop=True)\n",
    "    total=total.values.tolist()\n",
    "    count=0\n",
    "    m=[]\n",
    "    for z in ab:\n",
    "        z=z.replace('\\u200b','')\n",
    "        z=z.replace('.','$$$')\n",
    "        zz=ltp.sent_split([z])    \n",
    "        r=matchs(zz)         #get news a-v-a\n",
    "        g=z.replace('，','。') \n",
    "        xx=ltp.sent_split([g])\n",
    "        x=matchs(xx)         #get news a-v-a twice\n",
    "        for l in x:\n",
    "            if l not in r:\n",
    "                r.append(l)   #combine\n",
    "        f1=0\n",
    "        nn=[]\n",
    "        for i in r:\n",
    "            for j in total:    ##match\n",
    "                if i[0]==j[0] and j[1] in i[1]:\n",
    "                    f1=1\n",
    "                    if [j[0],j[1]] not in nn:\n",
    "                        nn.append([j[0],j[1]])\n",
    "                        break\n",
    "        z=z.replace('$$$','.')             \n",
    "        if f1==1:\n",
    "            count=count+1\n",
    "        if len(r)==0:\n",
    "            m.append([z,0])\n",
    "        else:\n",
    "            m.append([z,len(nn)/len(r)])\n",
    "    pd.DataFrame(m,columns=['s','r']).to_csv('test_hyx_5.12_coverage_'+str(n)+'.csv',index=False,encoding='utf_8_sig')\n",
    "    print('done')\n",
    "    print(count/len(ab))\n",
    "    n=n+1"
   ]
  },
  {
   "cell_type": "code",
   "execution_count": null,
   "metadata": {},
   "outputs": [],
   "source": []
  },
  {
   "cell_type": "code",
   "execution_count": null,
   "metadata": {},
   "outputs": [],
   "source": []
  }
 ],
 "metadata": {
  "kernelspec": {
   "display_name": "Python 3",
   "language": "python",
   "name": "python3"
  },
  "language_info": {
   "codemirror_mode": {
    "name": "ipython",
    "version": 3
   },
   "file_extension": ".py",
   "mimetype": "text/x-python",
   "name": "python",
   "nbconvert_exporter": "python",
   "pygments_lexer": "ipython3",
   "version": "3.8.3"
  }
 },
 "nbformat": 4,
 "nbformat_minor": 4
}
